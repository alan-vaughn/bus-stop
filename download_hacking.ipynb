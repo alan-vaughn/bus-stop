{
 "cells": [
  {
   "cell_type": "code",
   "execution_count": 10,
   "metadata": {},
   "outputs": [],
   "source": [
    "import pandas as pd"
   ]
  },
  {
   "cell_type": "code",
   "execution_count": 16,
   "metadata": {},
   "outputs": [],
   "source": [
    "stops = pd.read_csv('./data/brooklyn/stops.txt')\n",
    "stop_times = pd.read_csv('./data/brooklyn/stop_times.txt')\n",
    "trips = pd.read_csv('./data/brooklyn/trips.txt')"
   ]
  },
  {
   "cell_type": "code",
   "execution_count": 15,
   "metadata": {},
   "outputs": [
    {
     "data": {
      "text/html": [
       "<div>\n",
       "<style scoped>\n",
       "    .dataframe tbody tr th:only-of-type {\n",
       "        vertical-align: middle;\n",
       "    }\n",
       "\n",
       "    .dataframe tbody tr th {\n",
       "        vertical-align: top;\n",
       "    }\n",
       "\n",
       "    .dataframe thead th {\n",
       "        text-align: right;\n",
       "    }\n",
       "</style>\n",
       "<table border=\"1\" class=\"dataframe\">\n",
       "  <thead>\n",
       "    <tr style=\"text-align: right;\">\n",
       "      <th></th>\n",
       "      <th>trip_id</th>\n",
       "      <th>stop_id</th>\n",
       "      <th>arrival_time</th>\n",
       "      <th>departure_time</th>\n",
       "      <th>stop_sequence</th>\n",
       "      <th>pickup_type</th>\n",
       "      <th>drop_off_type</th>\n",
       "    </tr>\n",
       "  </thead>\n",
       "  <tbody>\n",
       "    <tr>\n",
       "      <th>0</th>\n",
       "      <td>EN_B9-Saturday-000000_B42_1</td>\n",
       "      <td>303345</td>\n",
       "      <td>00:00:00</td>\n",
       "      <td>00:00:00</td>\n",
       "      <td>1</td>\n",
       "      <td>NaN</td>\n",
       "      <td>NaN</td>\n",
       "    </tr>\n",
       "    <tr>\n",
       "      <th>1</th>\n",
       "      <td>EN_B9-Saturday-000000_B42_1</td>\n",
       "      <td>308044</td>\n",
       "      <td>00:00:25</td>\n",
       "      <td>00:00:25</td>\n",
       "      <td>2</td>\n",
       "      <td>NaN</td>\n",
       "      <td>NaN</td>\n",
       "    </tr>\n",
       "    <tr>\n",
       "      <th>2</th>\n",
       "      <td>EN_B9-Saturday-000000_B42_1</td>\n",
       "      <td>306590</td>\n",
       "      <td>00:01:17</td>\n",
       "      <td>00:01:17</td>\n",
       "      <td>3</td>\n",
       "      <td>NaN</td>\n",
       "      <td>NaN</td>\n",
       "    </tr>\n",
       "    <tr>\n",
       "      <th>3</th>\n",
       "      <td>EN_B9-Saturday-000000_B42_1</td>\n",
       "      <td>303348</td>\n",
       "      <td>00:01:59</td>\n",
       "      <td>00:01:59</td>\n",
       "      <td>4</td>\n",
       "      <td>NaN</td>\n",
       "      <td>NaN</td>\n",
       "    </tr>\n",
       "    <tr>\n",
       "      <th>4</th>\n",
       "      <td>EN_B9-Saturday-000000_B42_1</td>\n",
       "      <td>303349</td>\n",
       "      <td>00:02:34</td>\n",
       "      <td>00:02:34</td>\n",
       "      <td>5</td>\n",
       "      <td>NaN</td>\n",
       "      <td>NaN</td>\n",
       "    </tr>\n",
       "  </tbody>\n",
       "</table>\n",
       "</div>"
      ],
      "text/plain": [
       "                       trip_id  stop_id arrival_time departure_time  \\\n",
       "0  EN_B9-Saturday-000000_B42_1   303345     00:00:00       00:00:00   \n",
       "1  EN_B9-Saturday-000000_B42_1   308044     00:00:25       00:00:25   \n",
       "2  EN_B9-Saturday-000000_B42_1   306590     00:01:17       00:01:17   \n",
       "3  EN_B9-Saturday-000000_B42_1   303348     00:01:59       00:01:59   \n",
       "4  EN_B9-Saturday-000000_B42_1   303349     00:02:34       00:02:34   \n",
       "\n",
       "   stop_sequence  pickup_type  drop_off_type  \n",
       "0              1          NaN            NaN  \n",
       "1              2          NaN            NaN  \n",
       "2              3          NaN            NaN  \n",
       "3              4          NaN            NaN  \n",
       "4              5          NaN            NaN  "
      ]
     },
     "execution_count": 15,
     "metadata": {},
     "output_type": "execute_result"
    }
   ],
   "source": [
    "stop_times.head()"
   ]
  },
  {
   "cell_type": "code",
   "execution_count": 31,
   "metadata": {},
   "outputs": [],
   "source": [
    "combined = pd.merge(stop_times, trips, on='trip_id', how='left')\n",
    "stop_and_route = combined[['stop_id', 'route_id']].drop_duplicates().merge(stops, how='left', on='stop_id')"
   ]
  },
  {
   "cell_type": "code",
   "execution_count": 43,
   "metadata": {},
   "outputs": [
    {
     "data": {
      "text/plain": [
       "1    3775\n",
       "2     742\n",
       "3     145\n",
       "4      42\n",
       "6       1\n",
       "5       1\n",
       "Name: route_id, dtype: int64"
      ]
     },
     "execution_count": 43,
     "metadata": {},
     "output_type": "execute_result"
    }
   ],
   "source": [
    "stop_and_route.groupby('stop_id')['route_id'].nunique().value_counts()"
   ]
  },
  {
   "cell_type": "code",
   "execution_count": 36,
   "metadata": {},
   "outputs": [
    {
     "data": {
      "text/plain": [
       "4706"
      ]
     },
     "execution_count": 36,
     "metadata": {},
     "output_type": "execute_result"
    }
   ],
   "source": [
    "len(stop_and_route['stop_id'].unique())"
   ]
  },
  {
   "cell_type": "code",
   "execution_count": null,
   "metadata": {},
   "outputs": [],
   "source": []
  }
 ],
 "metadata": {
  "kernelspec": {
   "display_name": "Python 3",
   "language": "python",
   "name": "python3"
  },
  "language_info": {
   "codemirror_mode": {
    "name": "ipython",
    "version": 3
   },
   "file_extension": ".py",
   "mimetype": "text/x-python",
   "name": "python",
   "nbconvert_exporter": "python",
   "pygments_lexer": "ipython3",
   "version": "3.6.5"
  }
 },
 "nbformat": 4,
 "nbformat_minor": 2
}
