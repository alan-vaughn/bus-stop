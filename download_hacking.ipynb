{
 "cells": [
  {
   "cell_type": "code",
   "execution_count": 2,
   "metadata": {},
   "outputs": [],
   "source": [
    "import pandas as pd"
   ]
  },
  {
   "cell_type": "code",
   "execution_count": 3,
   "metadata": {},
   "outputs": [
    {
     "name": "stderr",
     "output_type": "stream",
     "text": [
      "/usr/local/lib/python3.6/site-packages/ipykernel_launcher.py:12: FutureWarning: Sorting because non-concatenation axis is not aligned. A future version\n",
      "of pandas will change to not sort by default.\n",
      "\n",
      "To accept the future behavior, pass 'sort=False'.\n",
      "\n",
      "To retain the current behavior and silence the warning, pass 'sort=True'.\n",
      "\n",
      "  if sys.path[0] == '':\n",
      "/usr/local/lib/python3.6/site-packages/ipykernel_launcher.py:17: FutureWarning: Sorting because non-concatenation axis is not aligned. A future version\n",
      "of pandas will change to not sort by default.\n",
      "\n",
      "To accept the future behavior, pass 'sort=False'.\n",
      "\n",
      "To retain the current behavior and silence the warning, pass 'sort=True'.\n",
      "\n"
     ]
    }
   ],
   "source": [
    "boroughs = [\n",
    "    'brooklyn', 'bronx', 'manhattan', 'queens', 'staten_island'\n",
    "]\n",
    "\n",
    "stops = pd.concat(\n",
    "    [pd.read_csv(f'./data/{borough}/stops.txt') for borough in boroughs],\n",
    "    ignore_index=True\n",
    ")\n",
    "\n",
    "stop_times = pd.concat(\n",
    "    [pd.read_csv(f'./data/{borough}/stop_times.txt') for borough in boroughs],\n",
    "    ignore_index=True\n",
    ")\n",
    "\n",
    "trips = pd.concat(\n",
    "    [pd.read_csv(f'./data/{borough}/trips.txt') for borough in boroughs],\n",
    "    ignore_index=True\n",
    ")"
   ]
  },
  {
   "cell_type": "code",
   "execution_count": 18,
   "metadata": {},
   "outputs": [
    {
     "data": {
      "text/plain": [
       "115209"
      ]
     },
     "execution_count": 18,
     "metadata": {},
     "output_type": "execute_result"
    }
   ],
   "source": [
    "stops.size"
   ]
  },
  {
   "cell_type": "code",
   "execution_count": 4,
   "metadata": {},
   "outputs": [],
   "source": [
    "combined = pd.merge(stop_times, trips, on='trip_id', how='left')\n",
    "stop_and_route = combined[['stop_id', 'route_id']].drop_duplicates().merge(stops, how='left', on='stop_id')"
   ]
  },
  {
   "cell_type": "code",
   "execution_count": 4,
   "metadata": {},
   "outputs": [
    {
     "data": {
      "text/plain": [
       "1     8486\n",
       "2     2676\n",
       "3      823\n",
       "4      280\n",
       "5      130\n",
       "6       73\n",
       "7       38\n",
       "8       36\n",
       "9       28\n",
       "10      10\n",
       "11       7\n",
       "12       3\n",
       "13       3\n",
       "15       2\n",
       "17       1\n",
       "14       1\n",
       "16       1\n",
       "Name: route_id, dtype: int64"
      ]
     },
     "execution_count": 4,
     "metadata": {},
     "output_type": "execute_result"
    }
   ],
   "source": [
    "# how many bus stops of each type\n",
    "stop_and_route.groupby('stop_id')['route_id'].nunique().value_counts()"
   ]
  },
  {
   "cell_type": "code",
   "execution_count": 21,
   "metadata": {},
   "outputs": [
    {
     "data": {
      "text/plain": [
       "12598"
      ]
     },
     "execution_count": 21,
     "metadata": {},
     "output_type": "execute_result"
    }
   ],
   "source": [
    "len(stop_and_route['stop_id'].unique())"
   ]
  },
  {
   "cell_type": "code",
   "execution_count": 23,
   "metadata": {},
   "outputs": [
    {
     "data": {
      "text/plain": [
       "242"
      ]
     },
     "execution_count": 23,
     "metadata": {},
     "output_type": "execute_result"
    }
   ],
   "source": [
    "stop_and_route['route_id'].unique().size"
   ]
  },
  {
   "cell_type": "code",
   "execution_count": 25,
   "metadata": {},
   "outputs": [
    {
     "data": {
      "text/html": [
       "<div>\n",
       "<style scoped>\n",
       "    .dataframe tbody tr th:only-of-type {\n",
       "        vertical-align: middle;\n",
       "    }\n",
       "\n",
       "    .dataframe tbody tr th {\n",
       "        vertical-align: top;\n",
       "    }\n",
       "\n",
       "    .dataframe thead th {\n",
       "        text-align: right;\n",
       "    }\n",
       "</style>\n",
       "<table border=\"1\" class=\"dataframe\">\n",
       "  <thead>\n",
       "    <tr style=\"text-align: right;\">\n",
       "      <th></th>\n",
       "      <th>stop_id</th>\n",
       "      <th>route_id</th>\n",
       "      <th>stop_name</th>\n",
       "      <th>stop_desc</th>\n",
       "      <th>stop_lat</th>\n",
       "      <th>stop_lon</th>\n",
       "      <th>zone_id</th>\n",
       "      <th>stop_url</th>\n",
       "      <th>location_type</th>\n",
       "      <th>parent_station</th>\n",
       "    </tr>\n",
       "  </thead>\n",
       "  <tbody>\n",
       "    <tr>\n",
       "      <th>0</th>\n",
       "      <td>303345</td>\n",
       "      <td>B42</td>\n",
       "      <td>ROCKAWAY PKY SUBWAY/ROCKAWAY PKY SUBWAY</td>\n",
       "      <td>NaN</td>\n",
       "      <td>40.645845</td>\n",
       "      <td>-73.902462</td>\n",
       "      <td>NaN</td>\n",
       "      <td>NaN</td>\n",
       "      <td>0</td>\n",
       "      <td>NaN</td>\n",
       "    </tr>\n",
       "    <tr>\n",
       "      <th>1</th>\n",
       "      <td>308044</td>\n",
       "      <td>B42</td>\n",
       "      <td>ROCKAWAY PKY/GLENWOOD RD</td>\n",
       "      <td>NaN</td>\n",
       "      <td>40.644964</td>\n",
       "      <td>-73.902255</td>\n",
       "      <td>NaN</td>\n",
       "      <td>NaN</td>\n",
       "      <td>0</td>\n",
       "      <td>NaN</td>\n",
       "    </tr>\n",
       "    <tr>\n",
       "      <th>2</th>\n",
       "      <td>306590</td>\n",
       "      <td>B42</td>\n",
       "      <td>ROCKAWAY PY/FLATLANDS AV</td>\n",
       "      <td>NaN</td>\n",
       "      <td>40.643078</td>\n",
       "      <td>-73.900179</td>\n",
       "      <td>NaN</td>\n",
       "      <td>NaN</td>\n",
       "      <td>0</td>\n",
       "      <td>NaN</td>\n",
       "    </tr>\n",
       "    <tr>\n",
       "      <th>3</th>\n",
       "      <td>303348</td>\n",
       "      <td>B42</td>\n",
       "      <td>ROCKAWAY PY/AV J</td>\n",
       "      <td>NaN</td>\n",
       "      <td>40.641660</td>\n",
       "      <td>-73.898593</td>\n",
       "      <td>NaN</td>\n",
       "      <td>NaN</td>\n",
       "      <td>0</td>\n",
       "      <td>NaN</td>\n",
       "    </tr>\n",
       "    <tr>\n",
       "      <th>4</th>\n",
       "      <td>303349</td>\n",
       "      <td>B42</td>\n",
       "      <td>ROCKAWAY PY/AV K</td>\n",
       "      <td>NaN</td>\n",
       "      <td>40.640465</td>\n",
       "      <td>-73.897268</td>\n",
       "      <td>NaN</td>\n",
       "      <td>NaN</td>\n",
       "      <td>0</td>\n",
       "      <td>NaN</td>\n",
       "    </tr>\n",
       "  </tbody>\n",
       "</table>\n",
       "</div>"
      ],
      "text/plain": [
       "   stop_id route_id                                stop_name  stop_desc  \\\n",
       "0   303345      B42  ROCKAWAY PKY SUBWAY/ROCKAWAY PKY SUBWAY        NaN   \n",
       "1   308044      B42                 ROCKAWAY PKY/GLENWOOD RD        NaN   \n",
       "2   306590      B42                 ROCKAWAY PY/FLATLANDS AV        NaN   \n",
       "3   303348      B42                         ROCKAWAY PY/AV J        NaN   \n",
       "4   303349      B42                         ROCKAWAY PY/AV K        NaN   \n",
       "\n",
       "    stop_lat   stop_lon  zone_id  stop_url  location_type  parent_station  \n",
       "0  40.645845 -73.902462      NaN       NaN              0             NaN  \n",
       "1  40.644964 -73.902255      NaN       NaN              0             NaN  \n",
       "2  40.643078 -73.900179      NaN       NaN              0             NaN  \n",
       "3  40.641660 -73.898593      NaN       NaN              0             NaN  \n",
       "4  40.640465 -73.897268      NaN       NaN              0             NaN  "
      ]
     },
     "execution_count": 25,
     "metadata": {},
     "output_type": "execute_result"
    }
   ],
   "source": [
    "stop_and_route.head()"
   ]
  },
  {
   "cell_type": "code",
   "execution_count": 38,
   "metadata": {},
   "outputs": [],
   "source": [
    "stop_to_all_busses = stop_and_route.groupby('stop_id')['route_id'].apply(lambda x: list(set(x)))"
   ]
  },
  {
   "cell_type": "code",
   "execution_count": 17,
   "metadata": {},
   "outputs": [
    {
     "data": {
      "text/plain": [
       "12598"
      ]
     },
     "execution_count": 17,
     "metadata": {},
     "output_type": "execute_result"
    }
   ],
   "source": [
    "len(stop_and_route[['stop_id', 'stop_name', 'stop_lat', 'stop_lon']].drop_duplicates(subset=['stop_id']))"
   ]
  },
  {
   "cell_type": "code",
   "execution_count": 39,
   "metadata": {},
   "outputs": [],
   "source": [
    "combined = pd.merge(\n",
    "    stop_and_route[['stop_id', 'stop_name', 'stop_lat', 'stop_lon']].drop_duplicates(subset=['stop_id']),\n",
    "    stop_to_all_busses,\n",
    "    on='stop_id'\n",
    ").rename(columns={'route_id': 'routes'})"
   ]
  },
  {
   "cell_type": "code",
   "execution_count": 40,
   "metadata": {},
   "outputs": [],
   "source": [
    "combined['route_count'] = combined['routes'].apply(len)"
   ]
  },
  {
   "cell_type": "code",
   "execution_count": 41,
   "metadata": {},
   "outputs": [
    {
     "data": {
      "text/html": [
       "<div>\n",
       "<style scoped>\n",
       "    .dataframe tbody tr th:only-of-type {\n",
       "        vertical-align: middle;\n",
       "    }\n",
       "\n",
       "    .dataframe tbody tr th {\n",
       "        vertical-align: top;\n",
       "    }\n",
       "\n",
       "    .dataframe thead th {\n",
       "        text-align: right;\n",
       "    }\n",
       "</style>\n",
       "<table border=\"1\" class=\"dataframe\">\n",
       "  <thead>\n",
       "    <tr style=\"text-align: right;\">\n",
       "      <th></th>\n",
       "      <th>stop_id</th>\n",
       "      <th>stop_name</th>\n",
       "      <th>stop_lat</th>\n",
       "      <th>stop_lon</th>\n",
       "      <th>routes</th>\n",
       "      <th>route_count</th>\n",
       "    </tr>\n",
       "  </thead>\n",
       "  <tbody>\n",
       "    <tr>\n",
       "      <th>4610</th>\n",
       "      <td>805039</td>\n",
       "      <td>Gowanus Exp./22 St (N.B.)</td>\n",
       "      <td>40.663351</td>\n",
       "      <td>-73.998119</td>\n",
       "      <td>[SIM5, X27, SIM4C, X37, SIM34, X38, X28, SIM35...</td>\n",
       "      <td>12</td>\n",
       "    </tr>\n",
       "    <tr>\n",
       "      <th>4613</th>\n",
       "      <td>450402</td>\n",
       "      <td>CHURCH ST/FULTON ST</td>\n",
       "      <td>40.711727</td>\n",
       "      <td>-74.010261</td>\n",
       "      <td>[X27, SIM3C, SIM1, SIM4C, SIM4X, SIM34, SIM1C,...</td>\n",
       "      <td>13</td>\n",
       "    </tr>\n",
       "    <tr>\n",
       "      <th>4660</th>\n",
       "      <td>402130</td>\n",
       "      <td>E 23 ST/BROADWAY</td>\n",
       "      <td>40.741142</td>\n",
       "      <td>-73.988790</td>\n",
       "      <td>[M23+, X27, SIM4C, X37, X64, X68, X63, X38, X2...</td>\n",
       "      <td>12</td>\n",
       "    </tr>\n",
       "    <tr>\n",
       "      <th>4691</th>\n",
       "      <td>402143</td>\n",
       "      <td>E 23 ST/1 AV</td>\n",
       "      <td>40.737297</td>\n",
       "      <td>-73.979360</td>\n",
       "      <td>[M23+, SIM11, X37, X64, X68, X63, X38, SIM6, S...</td>\n",
       "      <td>11</td>\n",
       "    </tr>\n",
       "    <tr>\n",
       "      <th>7520</th>\n",
       "      <td>400070</td>\n",
       "      <td>TRINITY PL/RECTOR ST</td>\n",
       "      <td>40.708007</td>\n",
       "      <td>-74.012714</td>\n",
       "      <td>[SIM3C, SIM4C, SIM1, SIM4X, SIM34, M55, SIM1C,...</td>\n",
       "      <td>12</td>\n",
       "    </tr>\n",
       "    <tr>\n",
       "      <th>7525</th>\n",
       "      <td>405024</td>\n",
       "      <td>CHURCH ST/WORTH ST</td>\n",
       "      <td>40.716678</td>\n",
       "      <td>-74.006421</td>\n",
       "      <td>[SIM3C, SIM4C, SIM1, SIM4X, SIM34, M55, SIM1C,...</td>\n",
       "      <td>11</td>\n",
       "    </tr>\n",
       "    <tr>\n",
       "      <th>7604</th>\n",
       "      <td>402214</td>\n",
       "      <td>E 57 ST/LEXINGTON AV</td>\n",
       "      <td>40.760727</td>\n",
       "      <td>-73.968725</td>\n",
       "      <td>[SIM8X, SIM11, SIM26, M31, X64, X68, M57, X63,...</td>\n",
       "      <td>13</td>\n",
       "    </tr>\n",
       "    <tr>\n",
       "      <th>7941</th>\n",
       "      <td>400359</td>\n",
       "      <td>MADISON AV/E 47 ST</td>\n",
       "      <td>40.756492</td>\n",
       "      <td>-73.976474</td>\n",
       "      <td>[SIM8X, Q32, SIM11, M3, M4, M1, SIM8, M2, SIM6...</td>\n",
       "      <td>11</td>\n",
       "    </tr>\n",
       "    <tr>\n",
       "      <th>10234</th>\n",
       "      <td>404300</td>\n",
       "      <td>MADISON AV/E 54 ST</td>\n",
       "      <td>40.760615</td>\n",
       "      <td>-73.973461</td>\n",
       "      <td>[SIM8X, SIM11, SIM4C, X64, X68, X63, SIM8, SIM...</td>\n",
       "      <td>11</td>\n",
       "    </tr>\n",
       "    <tr>\n",
       "      <th>10743</th>\n",
       "      <td>805033</td>\n",
       "      <td>Verrazano Bridge/Lee Av (N.B.)</td>\n",
       "      <td>40.610786</td>\n",
       "      <td>-74.031356</td>\n",
       "      <td>[SIM5, SIM4C, SIM4X, SIM34, SIM33, SIM3C, SIM3...</td>\n",
       "      <td>13</td>\n",
       "    </tr>\n",
       "    <tr>\n",
       "      <th>10744</th>\n",
       "      <td>805035</td>\n",
       "      <td>Gowanus Exp./78 St (N.B.)</td>\n",
       "      <td>40.624909</td>\n",
       "      <td>-74.018958</td>\n",
       "      <td>[SIM5, SIM4C, SIM34, SIM33, SIM35, SIM31, SIM4...</td>\n",
       "      <td>11</td>\n",
       "    </tr>\n",
       "    <tr>\n",
       "      <th>10745</th>\n",
       "      <td>901114</td>\n",
       "      <td>Gowanus Exp./6 Av (N.B.)</td>\n",
       "      <td>40.635379</td>\n",
       "      <td>-74.016664</td>\n",
       "      <td>[SIM7, SIM5, SIM11, SIM4C, SIM1, SIM4X, SIM9, ...</td>\n",
       "      <td>17</td>\n",
       "    </tr>\n",
       "    <tr>\n",
       "      <th>10765</th>\n",
       "      <td>901109</td>\n",
       "      <td>gowanus py/6 av</td>\n",
       "      <td>40.635157</td>\n",
       "      <td>-74.016821</td>\n",
       "      <td>[SIM7, SIM11, SIM5, SIM1, SIM1C, SIM33, SIM6, ...</td>\n",
       "      <td>14</td>\n",
       "    </tr>\n",
       "    <tr>\n",
       "      <th>10766</th>\n",
       "      <td>203345</td>\n",
       "      <td>NARROWS RD N/FINGERBOARD RD</td>\n",
       "      <td>40.604596</td>\n",
       "      <td>-74.069364</td>\n",
       "      <td>[SIM7, SIM11, SIM1, S93, S79+, SIM3C, SIM35, S...</td>\n",
       "      <td>11</td>\n",
       "    </tr>\n",
       "    <tr>\n",
       "      <th>10859</th>\n",
       "      <td>905046</td>\n",
       "      <td>ELTINGVILLE/TRANSIT CENTER</td>\n",
       "      <td>40.560931</td>\n",
       "      <td>-74.171352</td>\n",
       "      <td>[SIM7, SIM5, S74, SIM1, S59, S55, S56, S89, SI...</td>\n",
       "      <td>15</td>\n",
       "    </tr>\n",
       "    <tr>\n",
       "      <th>11045</th>\n",
       "      <td>200176</td>\n",
       "      <td>BAY ST/NICK LAPORTE PL</td>\n",
       "      <td>40.641846</td>\n",
       "      <td>-74.075573</td>\n",
       "      <td>[S91, S48, S98, S74, S61, S46, S42, S51, S86, ...</td>\n",
       "      <td>16</td>\n",
       "    </tr>\n",
       "    <tr>\n",
       "      <th>11128</th>\n",
       "      <td>203650</td>\n",
       "      <td>BAY ST/BOROUGH PL</td>\n",
       "      <td>40.641958</td>\n",
       "      <td>-74.075330</td>\n",
       "      <td>[S91, S48, S98, S74, S61, S46, S42, S51, S96, ...</td>\n",
       "      <td>15</td>\n",
       "    </tr>\n",
       "    <tr>\n",
       "      <th>12188</th>\n",
       "      <td>202845</td>\n",
       "      <td>RICHMOND AV/YUKON AV</td>\n",
       "      <td>40.576012</td>\n",
       "      <td>-74.169516</td>\n",
       "      <td>[S91, SIM4C, S44, S55, S61, S94, S56, S79+, SI...</td>\n",
       "      <td>11</td>\n",
       "    </tr>\n",
       "  </tbody>\n",
       "</table>\n",
       "</div>"
      ],
      "text/plain": [
       "       stop_id                       stop_name   stop_lat   stop_lon  \\\n",
       "4610    805039       Gowanus Exp./22 St (N.B.)  40.663351 -73.998119   \n",
       "4613    450402             CHURCH ST/FULTON ST  40.711727 -74.010261   \n",
       "4660    402130                E 23 ST/BROADWAY  40.741142 -73.988790   \n",
       "4691    402143                    E 23 ST/1 AV  40.737297 -73.979360   \n",
       "7520    400070            TRINITY PL/RECTOR ST  40.708007 -74.012714   \n",
       "7525    405024              CHURCH ST/WORTH ST  40.716678 -74.006421   \n",
       "7604    402214            E 57 ST/LEXINGTON AV  40.760727 -73.968725   \n",
       "7941    400359              MADISON AV/E 47 ST  40.756492 -73.976474   \n",
       "10234   404300              MADISON AV/E 54 ST  40.760615 -73.973461   \n",
       "10743   805033  Verrazano Bridge/Lee Av (N.B.)  40.610786 -74.031356   \n",
       "10744   805035       Gowanus Exp./78 St (N.B.)  40.624909 -74.018958   \n",
       "10745   901114        Gowanus Exp./6 Av (N.B.)  40.635379 -74.016664   \n",
       "10765   901109                 gowanus py/6 av  40.635157 -74.016821   \n",
       "10766   203345     NARROWS RD N/FINGERBOARD RD  40.604596 -74.069364   \n",
       "10859   905046      ELTINGVILLE/TRANSIT CENTER  40.560931 -74.171352   \n",
       "11045   200176          BAY ST/NICK LAPORTE PL  40.641846 -74.075573   \n",
       "11128   203650               BAY ST/BOROUGH PL  40.641958 -74.075330   \n",
       "12188   202845            RICHMOND AV/YUKON AV  40.576012 -74.169516   \n",
       "\n",
       "                                                  routes  route_count  \n",
       "4610   [SIM5, X27, SIM4C, X37, SIM34, X38, X28, SIM35...           12  \n",
       "4613   [X27, SIM3C, SIM1, SIM4C, SIM4X, SIM34, SIM1C,...           13  \n",
       "4660   [M23+, X27, SIM4C, X37, X64, X68, X63, X38, X2...           12  \n",
       "4691   [M23+, SIM11, X37, X64, X68, X63, X38, SIM6, S...           11  \n",
       "7520   [SIM3C, SIM4C, SIM1, SIM4X, SIM34, M55, SIM1C,...           12  \n",
       "7525   [SIM3C, SIM4C, SIM1, SIM4X, SIM34, M55, SIM1C,...           11  \n",
       "7604   [SIM8X, SIM11, SIM26, M31, X64, X68, M57, X63,...           13  \n",
       "7941   [SIM8X, Q32, SIM11, M3, M4, M1, SIM8, M2, SIM6...           11  \n",
       "10234  [SIM8X, SIM11, SIM4C, X64, X68, X63, SIM8, SIM...           11  \n",
       "10743  [SIM5, SIM4C, SIM4X, SIM34, SIM33, SIM3C, SIM3...           13  \n",
       "10744  [SIM5, SIM4C, SIM34, SIM33, SIM35, SIM31, SIM4...           11  \n",
       "10745  [SIM7, SIM5, SIM11, SIM4C, SIM1, SIM4X, SIM9, ...           17  \n",
       "10765  [SIM7, SIM11, SIM5, SIM1, SIM1C, SIM33, SIM6, ...           14  \n",
       "10766  [SIM7, SIM11, SIM1, S93, S79+, SIM3C, SIM35, S...           11  \n",
       "10859  [SIM7, SIM5, S74, SIM1, S59, S55, S56, S89, SI...           15  \n",
       "11045  [S91, S48, S98, S74, S61, S46, S42, S51, S86, ...           16  \n",
       "11128  [S91, S48, S98, S74, S61, S46, S42, S51, S96, ...           15  \n",
       "12188  [S91, SIM4C, S44, S55, S61, S94, S56, S79+, SI...           11  "
      ]
     },
     "execution_count": 41,
     "metadata": {},
     "output_type": "execute_result"
    }
   ],
   "source": [
    "combined[combined['route_count'] > 10]"
   ]
  },
  {
   "cell_type": "code",
   "execution_count": 43,
   "metadata": {},
   "outputs": [],
   "source": [
    "combined.to_csv('cleaned.csv')"
   ]
  },
  {
   "cell_type": "code",
   "execution_count": 45,
   "metadata": {},
   "outputs": [],
   "source": [
    "combined.to_json('cleaned.json', orient='records')"
   ]
  },
  {
   "cell_type": "code",
   "execution_count": 7,
   "metadata": {},
   "outputs": [
    {
     "data": {
      "text/plain": [
       "array(['B42', 'B82', 'B25', 'B17', 'Q24', 'B12', 'B14', 'Q56', 'B15',\n",
       "       'B83', 'B65', 'B45', 'B91A', 'B84', 'B82+', 'B41', 'B44', 'B46',\n",
       "       'B49', 'B31', 'B2', 'B44+', 'B46+', 'B1', 'B47', 'Q54', 'B48',\n",
       "       'B54', 'Q55', 'Q58', 'B52', 'B60', 'B38', 'B26', 'B13', 'B57',\n",
       "       'B7', 'B20', 'B62', 'Q59', 'B24', 'B32', 'B39', 'B8', 'B61', 'B35',\n",
       "       'B68', 'B63', 'B43', 'B11', 'B70', 'B67', 'B16', 'B4', 'B9', 'B37',\n",
       "       'B69', 'B36', 'B6', 'B3', 'B64', 'X27', 'X28', 'B74', 'X38', 'X37',\n",
       "       'BX41', 'BX39', 'BX41+', 'BX12+', 'BX26', 'BX22', 'BX40', 'BX42',\n",
       "       'BX5', 'BX29', 'BX4', 'BX4A', 'BX34', 'BX12', 'BX24', 'BX16',\n",
       "       'BX28', 'BX38', 'BX30', 'BX15', 'M100', 'BX7', 'BX20', 'BX10',\n",
       "       'BX1', 'BX2', 'BX9', 'BX13', 'BX18', 'BX3', 'BX6+', 'BX33', 'BX8',\n",
       "       'BX17', 'BX21', 'BX36', 'BX35', 'BX46', 'BX19', 'BX31', 'BX32',\n",
       "       'BX6', 'BX27', 'BX11', 'M14A', 'M14D', 'M60+', 'M9', 'M42', 'M50',\n",
       "       'M86+', 'M20', 'M34+', 'M34A+', 'M66', 'M23+', 'M22', 'M21', 'M8',\n",
       "       'M79+', 'M35', 'M55', 'M72', 'M57', 'M12', 'M116', 'M10', 'M5',\n",
       "       'M4', 'M104', 'M3', 'M2', 'M11', 'M106', 'M96', 'M98', 'M15+',\n",
       "       'M7', 'M1', 'M31', 'M101', 'M102', 'M103', 'M15', 'Q44+', 'Q20B',\n",
       "       'Q20A', 'Q28', 'Q32', 'Q15', 'Q15A', 'Q26', 'Q48', 'Q13', 'Q31',\n",
       "       'Q76', 'Q16', 'Q12', 'Q17', 'Q84', 'Q4', 'Q85', 'Q5', 'Q30', 'Q42',\n",
       "       'Q3', 'Q77', 'Q1', 'Q43', 'X63', 'Q27', 'Q88', 'Q36', 'Q2', 'X68',\n",
       "       'Q83', 'X64', 'Q46', 'SIM33C', 'SIM9', 'SIM15', 'SIM32', 'SIM7',\n",
       "       'S40', 'S90', 'S53', 'S66', 'S76', 'S86', 'S93', 'SIM1C', 'SIM35',\n",
       "       'SIM34', 'SIM3C', 'SIM3', 'SIM22', 'S46', 'S96', 'S48', 'S98',\n",
       "       'S54', 'S51', 'S81', 'S52', 'S42', 'S74', 'SIM8X', 'S78', 'S84',\n",
       "       'SIM10', 'SIM6', 'SIM5', 'SIM1', 'SIM26', 'SIM25', 'SIM2', 'SIM31',\n",
       "       'SIM4', 'SIM4C', 'SIM8', 'S55', 'S56', 'SIM4X', 'SIM33', 'SIM30',\n",
       "       'SIM11', 'S62', 'S92', 'S61', 'S91', 'S79+', 'S44', 'S94', 'S57',\n",
       "       'S89', 'S59'], dtype=object)"
      ]
     },
     "execution_count": 7,
     "metadata": {},
     "output_type": "execute_result"
    }
   ],
   "source": [
    "stop_and_route['route_id'].unique()"
   ]
  },
  {
   "cell_type": "code",
   "execution_count": null,
   "metadata": {},
   "outputs": [],
   "source": []
  }
 ],
 "metadata": {
  "kernelspec": {
   "display_name": "Python 3",
   "language": "python",
   "name": "python3"
  },
  "language_info": {
   "codemirror_mode": {
    "name": "ipython",
    "version": 3
   },
   "file_extension": ".py",
   "mimetype": "text/x-python",
   "name": "python",
   "nbconvert_exporter": "python",
   "pygments_lexer": "ipython3",
   "version": "3.6.5"
  }
 },
 "nbformat": 4,
 "nbformat_minor": 2
}
