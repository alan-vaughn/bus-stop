{
 "cells": [
  {
   "cell_type": "code",
   "execution_count": 1,
   "metadata": {},
   "outputs": [],
   "source": [
    "import pandas as pd"
   ]
  },
  {
   "cell_type": "code",
   "execution_count": 17,
   "metadata": {},
   "outputs": [
    {
     "name": "stderr",
     "output_type": "stream",
     "text": [
      "/usr/local/lib/python3.6/site-packages/ipykernel_launcher.py:12: FutureWarning: Sorting because non-concatenation axis is not aligned. A future version\n",
      "of pandas will change to not sort by default.\n",
      "\n",
      "To accept the future behavior, pass 'sort=False'.\n",
      "\n",
      "To retain the current behavior and silence the warning, pass 'sort=True'.\n",
      "\n",
      "  if sys.path[0] == '':\n",
      "/usr/local/lib/python3.6/site-packages/ipykernel_launcher.py:17: FutureWarning: Sorting because non-concatenation axis is not aligned. A future version\n",
      "of pandas will change to not sort by default.\n",
      "\n",
      "To accept the future behavior, pass 'sort=False'.\n",
      "\n",
      "To retain the current behavior and silence the warning, pass 'sort=True'.\n",
      "\n"
     ]
    }
   ],
   "source": [
    "boroughs = [\n",
    "    'brooklyn', 'bronx', 'manhattan', 'queens', 'staten_island'\n",
    "]\n",
    "\n",
    "stops = pd.concat(\n",
    "    [pd.read_csv(f'./data/{borough}/stops.txt') for borough in boroughs],\n",
    "    ignore_index=True\n",
    ")\n",
    "\n",
    "stop_times = pd.concat(\n",
    "    [pd.read_csv(f'./data/{borough}/stop_times.txt') for borough in boroughs],\n",
    "    ignore_index=True\n",
    ")\n",
    "\n",
    "trips = pd.concat(\n",
    "    [pd.read_csv(f'./data/{borough}/trips.txt') for borough in boroughs],\n",
    "    ignore_index=True\n",
    ")\n",
    "\n",
    "\n",
    "# stops = pd.read_csv('./data/brooklyn/stops.txt')\n",
    "# stop_times = pd.read_csv('./data/brooklyn/stop_times.txt')\n",
    "# trips = pd.read_csv('./data/brooklyn/trips.txt')"
   ]
  },
  {
   "cell_type": "code",
   "execution_count": 18,
   "metadata": {},
   "outputs": [
    {
     "data": {
      "text/plain": [
       "115209"
      ]
     },
     "execution_count": 18,
     "metadata": {},
     "output_type": "execute_result"
    }
   ],
   "source": [
    "stops.size"
   ]
  },
  {
   "cell_type": "code",
   "execution_count": 19,
   "metadata": {},
   "outputs": [],
   "source": [
    "combined = pd.merge(stop_times, trips, on='trip_id', how='left')\n",
    "stop_and_route = combined[['stop_id', 'route_id']].drop_duplicates().merge(stops, how='left', on='stop_id')"
   ]
  },
  {
   "cell_type": "code",
   "execution_count": 20,
   "metadata": {},
   "outputs": [
    {
     "data": {
      "text/plain": [
       "1     8486\n",
       "2     2676\n",
       "3      823\n",
       "4      280\n",
       "5      130\n",
       "6       73\n",
       "7       38\n",
       "8       36\n",
       "9       28\n",
       "10      10\n",
       "11       7\n",
       "12       3\n",
       "13       3\n",
       "15       2\n",
       "17       1\n",
       "14       1\n",
       "16       1\n",
       "Name: route_id, dtype: int64"
      ]
     },
     "execution_count": 20,
     "metadata": {},
     "output_type": "execute_result"
    }
   ],
   "source": [
    "# how many bus stops of each type\n",
    "stop_and_route.groupby('stop_id')['route_id'].nunique().value_counts()"
   ]
  },
  {
   "cell_type": "code",
   "execution_count": 21,
   "metadata": {},
   "outputs": [
    {
     "data": {
      "text/plain": [
       "12598"
      ]
     },
     "execution_count": 21,
     "metadata": {},
     "output_type": "execute_result"
    }
   ],
   "source": [
    "len(stop_and_route['stop_id'].unique())"
   ]
  },
  {
   "cell_type": "code",
   "execution_count": 23,
   "metadata": {},
   "outputs": [
    {
     "data": {
      "text/plain": [
       "242"
      ]
     },
     "execution_count": 23,
     "metadata": {},
     "output_type": "execute_result"
    }
   ],
   "source": [
    "stop_and_route['route_id'].unique().size"
   ]
  },
  {
   "cell_type": "code",
   "execution_count": 25,
   "metadata": {},
   "outputs": [
    {
     "data": {
      "text/html": [
       "<div>\n",
       "<style scoped>\n",
       "    .dataframe tbody tr th:only-of-type {\n",
       "        vertical-align: middle;\n",
       "    }\n",
       "\n",
       "    .dataframe tbody tr th {\n",
       "        vertical-align: top;\n",
       "    }\n",
       "\n",
       "    .dataframe thead th {\n",
       "        text-align: right;\n",
       "    }\n",
       "</style>\n",
       "<table border=\"1\" class=\"dataframe\">\n",
       "  <thead>\n",
       "    <tr style=\"text-align: right;\">\n",
       "      <th></th>\n",
       "      <th>stop_id</th>\n",
       "      <th>route_id</th>\n",
       "      <th>stop_name</th>\n",
       "      <th>stop_desc</th>\n",
       "      <th>stop_lat</th>\n",
       "      <th>stop_lon</th>\n",
       "      <th>zone_id</th>\n",
       "      <th>stop_url</th>\n",
       "      <th>location_type</th>\n",
       "      <th>parent_station</th>\n",
       "    </tr>\n",
       "  </thead>\n",
       "  <tbody>\n",
       "    <tr>\n",
       "      <th>0</th>\n",
       "      <td>303345</td>\n",
       "      <td>B42</td>\n",
       "      <td>ROCKAWAY PKY SUBWAY/ROCKAWAY PKY SUBWAY</td>\n",
       "      <td>NaN</td>\n",
       "      <td>40.645845</td>\n",
       "      <td>-73.902462</td>\n",
       "      <td>NaN</td>\n",
       "      <td>NaN</td>\n",
       "      <td>0</td>\n",
       "      <td>NaN</td>\n",
       "    </tr>\n",
       "    <tr>\n",
       "      <th>1</th>\n",
       "      <td>308044</td>\n",
       "      <td>B42</td>\n",
       "      <td>ROCKAWAY PKY/GLENWOOD RD</td>\n",
       "      <td>NaN</td>\n",
       "      <td>40.644964</td>\n",
       "      <td>-73.902255</td>\n",
       "      <td>NaN</td>\n",
       "      <td>NaN</td>\n",
       "      <td>0</td>\n",
       "      <td>NaN</td>\n",
       "    </tr>\n",
       "    <tr>\n",
       "      <th>2</th>\n",
       "      <td>306590</td>\n",
       "      <td>B42</td>\n",
       "      <td>ROCKAWAY PY/FLATLANDS AV</td>\n",
       "      <td>NaN</td>\n",
       "      <td>40.643078</td>\n",
       "      <td>-73.900179</td>\n",
       "      <td>NaN</td>\n",
       "      <td>NaN</td>\n",
       "      <td>0</td>\n",
       "      <td>NaN</td>\n",
       "    </tr>\n",
       "    <tr>\n",
       "      <th>3</th>\n",
       "      <td>303348</td>\n",
       "      <td>B42</td>\n",
       "      <td>ROCKAWAY PY/AV J</td>\n",
       "      <td>NaN</td>\n",
       "      <td>40.641660</td>\n",
       "      <td>-73.898593</td>\n",
       "      <td>NaN</td>\n",
       "      <td>NaN</td>\n",
       "      <td>0</td>\n",
       "      <td>NaN</td>\n",
       "    </tr>\n",
       "    <tr>\n",
       "      <th>4</th>\n",
       "      <td>303349</td>\n",
       "      <td>B42</td>\n",
       "      <td>ROCKAWAY PY/AV K</td>\n",
       "      <td>NaN</td>\n",
       "      <td>40.640465</td>\n",
       "      <td>-73.897268</td>\n",
       "      <td>NaN</td>\n",
       "      <td>NaN</td>\n",
       "      <td>0</td>\n",
       "      <td>NaN</td>\n",
       "    </tr>\n",
       "  </tbody>\n",
       "</table>\n",
       "</div>"
      ],
      "text/plain": [
       "   stop_id route_id                                stop_name  stop_desc  \\\n",
       "0   303345      B42  ROCKAWAY PKY SUBWAY/ROCKAWAY PKY SUBWAY        NaN   \n",
       "1   308044      B42                 ROCKAWAY PKY/GLENWOOD RD        NaN   \n",
       "2   306590      B42                 ROCKAWAY PY/FLATLANDS AV        NaN   \n",
       "3   303348      B42                         ROCKAWAY PY/AV J        NaN   \n",
       "4   303349      B42                         ROCKAWAY PY/AV K        NaN   \n",
       "\n",
       "    stop_lat   stop_lon  zone_id  stop_url  location_type  parent_station  \n",
       "0  40.645845 -73.902462      NaN       NaN              0             NaN  \n",
       "1  40.644964 -73.902255      NaN       NaN              0             NaN  \n",
       "2  40.643078 -73.900179      NaN       NaN              0             NaN  \n",
       "3  40.641660 -73.898593      NaN       NaN              0             NaN  \n",
       "4  40.640465 -73.897268      NaN       NaN              0             NaN  "
      ]
     },
     "execution_count": 25,
     "metadata": {},
     "output_type": "execute_result"
    }
   ],
   "source": [
    "stop_and_route.head()"
   ]
  },
  {
   "cell_type": "code",
   "execution_count": 28,
   "metadata": {},
   "outputs": [
    {
     "data": {
      "text/plain": [
       "0        ROCKAWAY PKY SUBWAY/ROCKAWAY PKY SUBWAY\n",
       "1                       ROCKAWAY PKY/GLENWOOD RD\n",
       "2                       ROCKAWAY PY/FLATLANDS AV\n",
       "3                               ROCKAWAY PY/AV J\n",
       "4                               ROCKAWAY PY/AV K\n",
       "                          ...                   \n",
       "20611                        EYLANDT ST/LUTEN AV\n",
       "20612               RICHMOND HILL RD/RICHMOND AV\n",
       "20614                  MARSH AV/RICHMOND HILL RD\n",
       "20615                           MARSH AV/RING RD\n",
       "20616                   MERRILL AV / RICHMOND AV\n",
       "Name: stop_name, Length: 19292, dtype: object"
      ]
     },
     "execution_count": 28,
     "metadata": {},
     "output_type": "execute_result"
    }
   ],
   "source": [
    "stop_and_route.groupby('stop_id')['stop_name'].head()"
   ]
  },
  {
   "cell_type": "code",
   "execution_count": 31,
   "metadata": {},
   "outputs": [
    {
     "data": {
      "text/plain": [
       "12598"
      ]
     },
     "execution_count": 31,
     "metadata": {},
     "output_type": "execute_result"
    }
   ],
   "source": [
    "stop_and_route['stop_id'].nunique()"
   ]
  },
  {
   "cell_type": "code",
   "execution_count": null,
   "metadata": {},
   "outputs": [],
   "source": []
  }
 ],
 "metadata": {
  "kernelspec": {
   "display_name": "Python 3",
   "language": "python",
   "name": "python3"
  },
  "language_info": {
   "codemirror_mode": {
    "name": "ipython",
    "version": 3
   },
   "file_extension": ".py",
   "mimetype": "text/x-python",
   "name": "python",
   "nbconvert_exporter": "python",
   "pygments_lexer": "ipython3",
   "version": "3.6.5"
  }
 },
 "nbformat": 4,
 "nbformat_minor": 2
}
